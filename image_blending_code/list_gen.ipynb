{
 "cells": [
  {
   "cell_type": "code",
   "execution_count": null,
   "metadata": {},
   "outputs": [],
   "source": [
    "import glob\n",
    "import os \n",
    "import sys\n",
    "\n",
    "img_location = '/home/ngoc/data2/P2/data/Scrap2/'\n",
    "sub_folder = glob.glob(os.path.join(img_location,'*'))\n",
    "# print(sub_folder)\n",
    "re_img_file = []\n",
    "count = 0\n",
    "for ifolder in sub_folder:\n",
    "    img_file = glob.glob(os.path.join(ifolder,'*'))\n",
    "    re_img_file.extend([os.path.relpath(img,img_location)+'\\n' for img in img_file])\n",
    "#     print(re_img_file)\n",
    "with open('scrap_all.txt','w+') as f:\n",
    "    f.writelines(re_img_file)\n",
    "    count += 1\n",
    "print(count)\n",
    "    "
   ]
  },
  {
   "cell_type": "code",
   "execution_count": null,
   "metadata": {},
   "outputs": [],
   "source": [
    "print(len(re_img_file))"
   ]
  },
  {
   "cell_type": "code",
   "execution_count": null,
   "metadata": {},
   "outputs": [],
   "source": []
  }
 ],
 "metadata": {
  "kernelspec": {
   "display_name": "Python 3",
   "language": "python",
   "name": "python3"
  },
  "language_info": {
   "codemirror_mode": {
    "name": "ipython",
    "version": 3
   },
   "file_extension": ".py",
   "mimetype": "text/x-python",
   "name": "python",
   "nbconvert_exporter": "python",
   "pygments_lexer": "ipython3",
   "version": "3.6.9"
  }
 },
 "nbformat": 4,
 "nbformat_minor": 2
}
